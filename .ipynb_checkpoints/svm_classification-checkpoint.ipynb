{
 "cells": [
  {
   "cell_type": "markdown",
   "id": "0bdea571-4fc6-4bdd-b8fd-500c19178e4f",
   "metadata": {},
   "source": [
    "### SVM Introduction\n",
    "\n",
    "Support Vector Machines (SVMs) are machine learning models primarily used for classification tasks. They excel in finding optimal decision boundaries by identifying the hyperplane that maximizes the margin, the distance between the hyperplane and the nearest data points from different classes. This search for an optimal boundary makes SVMs robust and effective in handling complex data distributions. They leverage kernel functions to map data into higher dimensions, allowing them to solve nonlinear classification problems. SVMs offer versatility in handling various kernel functions like linear, polynomial, or radial basis functions, enabling them to work well in high-dimensional spaces. However, parameter tuning and choosing the right kernel can be challenging, and SVMs may be computationally intensive for large datasets.\n",
    "\n",
    "In summary, SVMs are powerful tools for classification due to their ability to construct effective decision boundaries. Their capacity to handle high-dimensional data and nonlinear problems makes them valuable, although their effectiveness depends on careful parameter selection and can pose computational challenges with extensive datasets."
   ]
  },
  {
   "cell_type": "markdown",
   "id": "b5295fc0-ff34-48f4-ac5e-c9ef97d19ce8",
   "metadata": {},
   "source": [
    "### Imports"
   ]
  },
  {
   "cell_type": "code",
   "execution_count": 2,
   "id": "1ea4b23a-57e6-4bd5-8f35-79e6b6a92cf6",
   "metadata": {},
   "outputs": [],
   "source": [
    "import pandas as pd\n",
    "import numpy as np\n",
    "import matplotlib.pyplot as plt"
   ]
  },
  {
   "cell_type": "markdown",
   "id": "c9c02405-3465-4d22-9b6a-d39a1cd27434",
   "metadata": {},
   "source": [
    "### About Cancer Data\n",
    "Original Author - UCI Machine Learning Repository (Asuncion and Newman, 2007)[http://mlearn.ics.uci.edu/MLRepositor...] \n",
    "\n",
    "Public Source - https://s3-api.us-geo.objectstorage.s..."
   ]
  },
  {
   "cell_type": "markdown",
   "id": "5d125fd1-ab2c-4e0c-b176-6377b1e66811",
   "metadata": {},
   "source": [
    "### Load data from CSV file"
   ]
  },
  {
   "cell_type": "code",
   "execution_count": 11,
   "id": "0894959d-c78c-4527-9b99-6eccaeaaea05",
   "metadata": {},
   "outputs": [
    {
     "data": {
      "text/plain": [
       "Class\n",
       "2    458\n",
       "4    241\n",
       "Name: count, dtype: int64"
      ]
     },
     "execution_count": 11,
     "metadata": {},
     "output_type": "execute_result"
    }
   ],
   "source": [
    "cell_df=pd.read_csv('cell_samples.csv')\n",
    "cell_df.tail()\n",
    "cell_df.shape\n",
    "cell_df.size\n",
    "cell_df.count()\n",
    "cell_df['Class'].value_counts()"
   ]
  },
  {
   "cell_type": "markdown",
   "id": "7c9df575-1163-4d64-814b-224aae500f5e",
   "metadata": {},
   "source": [
    "### Distribution of Classes"
   ]
  },
  {
   "cell_type": "code",
   "execution_count": 16,
   "id": "2ae3e9fd-41b5-4c1b-812a-8fa643dca2ac",
   "metadata": {},
   "outputs": [
    {
     "data": {
      "text/plain": [
       "<Axes: xlabel='Clump', ylabel='UnifSize'>"
      ]
     },
     "execution_count": 16,
     "metadata": {},
     "output_type": "execute_result"
    },
    {
     "data": {
      "image/png": "[encoded data removed]",
      "text/plain": [
       "<Figure size 640x480 with 1 Axes>"
      ]
     },
     "metadata": {},
     "output_type": "display_data"
    }
   ],
   "source": [
    "malignant_df=cell_df[cell_df['Class']==4][0:200]\n",
    "benign_df=cell_df[cell_df['Class']==2][0:200]\n",
    "\n",
    "axes=benign_df.plot(kind='scatter',x='Clump',y='UnifSize',color='blue', label='Benign')\n",
    "malignant_df.plot(kind='scatter',x='Clump',y='UnifSize',color='red', label='Malignant',ax=axes)\n",
    "#help(benign_df.plot())"
   ]
  },
  {
   "cell_type": "markdown",
   "id": "9bc6ecad-2c0b-4f2f-8d7b-1f72f7e29957",
   "metadata": {},
   "source": [
    "### Identifying unwanted rows"
   ]
  },
  {
   "cell_type": "code",
   "execution_count": 19,
   "id": "6cc57683-b073-4401-b9f6-ba50b34237f3",
   "metadata": {},
   "outputs": [
    {
     "data": {
      "text/plain": [
       "ID             int64\n",
       "Clump          int64\n",
       "UnifSize       int64\n",
       "UnifShape      int64\n",
       "MargAdh        int64\n",
       "SingEpiSize    int64\n",
       "BareNuc        int32\n",
       "BlandChrom     int64\n",
       "NormNucl       int64\n",
       "Mit            int64\n",
       "Class          int64\n",
       "dtype: object"
      ]
     },
     "execution_count": 19,
     "metadata": {},
     "output_type": "execute_result"
    }
   ],
   "source": [
    "cell_df.dtypes\n",
    "cell_df=cell_df[pd.to_numeric(cell_df['BareNuc'], errors='coerce').notnull()]\n",
    "cell_df['BareNuc']=cell_df['BareNuc'].astype('int')\n",
    "cell_df.dtypes"
   ]
  },
  {
   "cell_type": "markdown",
   "id": "6942d60b-a2a6-4797-9ead-bbb2de3cbe77",
   "metadata": {},
   "source": [
    "### Remove unwanted columns|"
   ]
  },
  {
   "cell_type": "code",
   "execution_count": 22,
   "id": "a6ee2017-594c-4234-b70a-117884db546e",
   "metadata": {},
   "outputs": [
    {
     "data": {
      "text/plain": [
       "array([[ 5,  1,  1,  1,  2,  1,  3,  1,  1],\n",
       "       [ 5,  4,  4,  5,  7, 10,  3,  2,  1],\n",
       "       [ 3,  1,  1,  1,  2,  2,  3,  1,  1],\n",
       "       [ 6,  8,  8,  1,  3,  4,  3,  7,  1],\n",
       "       [ 4,  1,  1,  3,  2,  1,  3,  1,  1]], dtype=int64)"
      ]
     },
     "execution_count": 22,
     "metadata": {},
     "output_type": "execute_result"
    }
   ],
   "source": [
    "cell_df.columns\n",
    "\n",
    "feature_df=cell_df[['Clump', 'UnifSize', 'UnifShape', 'MargAdh', 'SingEpiSize',\n",
    "       'BareNuc', 'BlandChrom', 'NormNucl', 'Mit']]\n",
    "\n",
    "#idependent var\n",
    "x=np.asarray(feature_df)\n",
    "\n",
    "#dependent var\n",
    "y=np.array(cell_df['Class'])\n",
    "\n",
    "x[0:5]"
   ]
  },
  {
   "cell_type": "markdown",
   "id": "739d12ae-0465-4b92-a77d-db4b19063928",
   "metadata": {},
   "source": [
    "### Training and Testing"
   ]
  },
  {
   "cell_type": "code",
   "execution_count": 28,
   "id": "43b8685e-1c7c-4b3f-9e45-9d27f04fb41e",
   "metadata": {},
   "outputs": [
    {
     "data": {
      "text/plain": [
       "(137,)"
      ]
     },
     "execution_count": 28,
     "metadata": {},
     "output_type": "execute_result"
    }
   ],
   "source": [
    "from sklearn.model_selection import train_test_split\n",
    "X_train, X_test, y_train,y_test=train_test_split(x,y,test_size=0.2,random_state=4)\n",
    "\n",
    "X_train.shape\n",
    "\n",
    "y_train.shape\n",
    "\n",
    "X_test.shape\n",
    "\n",
    "y_test.shape"
   ]
  },
  {
   "cell_type": "markdown",
   "id": "fcd563d7-ba48-47c9-834d-09216eff7082",
   "metadata": {},
   "source": [
    "### Modeling(SVM with Scikit-learn)"
   ]
  },
  {
   "cell_type": "code",
   "execution_count": 38,
   "id": "be61f170-d606-4f77-a0c8-f6c7bfcd9f68",
   "metadata": {},
   "outputs": [],
   "source": [
    "from sklearn import svm\n",
    "\n",
    "classifier=svm.SVC(kernel='linear',gamma='auto',C=2)\n",
    "classifier.fit(X_train, y_train)\n",
    "\n",
    "y_predict=classifier.predict(X_test)"
   ]
  },
  {
   "cell_type": "markdown",
   "id": "85f9f5f5-4f26-49ac-b46b-807cc68c9127",
   "metadata": {},
   "source": [
    "### Evaluation results"
   ]
  },
  {
   "cell_type": "code",
   "execution_count": 40,
   "id": "0a50a270-3901-43fb-b88f-83c349ccc237",
   "metadata": {},
   "outputs": [
    {
     "name": "stdout",
     "output_type": "stream",
     "text": [
      "              precision    recall  f1-score   support\n",
      "\n",
      "           2       1.00      0.94      0.97        90\n",
      "           4       0.90      1.00      0.95        47\n",
      "\n",
      "    accuracy                           0.96       137\n",
      "   macro avg       0.95      0.97      0.96       137\n",
      "weighted avg       0.97      0.96      0.96       137\n",
      "\n"
     ]
    }
   ],
   "source": [
    "from sklearn.metrics import classification_report\n",
    "print(classification_report(y_test,y_predict))"
   ]
  },
  {
   "cell_type": "code",
   "execution_count": 44,
   "id": "f21b3e80-1def-47a6-8405-3429e6789a05",
   "metadata": {},
   "outputs": [
    {
     "data": {
      "image/png": "[encoded data removed]",
      "text/plain": [
       "<Figure size 800x600 with 2 Axes>"
      ]
     },
     "metadata": {},
     "output_type": "display_data"
    }
   ],
   "source": [
    "import numpy as np\n",
    "# Assuming class 2 corresponds to 'benign' and class 4 corresponds to 'malignant'\n",
    "class_labels = {2: 'Benign', 4: 'Malignant'}\n",
    "\n",
    "# Replace class labels in y_test and y_predict\n",
    "y_test_labels = np.vectorize(class_labels.get)(y_test)\n",
    "y_predict_labels = np.vectorize(class_labels.get)(y_predict)\n",
    "\n",
    "# Calculate confusion matrix with labeled classes\n",
    "conf_matrix = confusion_matrix(y_test_labels, y_predict_labels)\n",
    "\n",
    "# Plotting the heatmap with labeled classes\n",
    "plt.figure(figsize=(8, 6))\n",
    "sns.heatmap(conf_matrix, annot=True, cmap='Blues', fmt='d', \n",
    "            xticklabels=[class_labels[label] for label in classifier.classes_], \n",
    "            yticklabels=[class_labels[label] for label in classifier.classes_])\n",
    "plt.xlabel('Predicted')\n",
    "plt.ylabel('Actual')\n",
    "plt.title('Confusion Matrix')\n",
    "plt.show()"
   ]
  },
  {
   "cell_type": "code",
   "execution_count": null,
   "id": "ad73c4a8-9d76-4cdc-80aa-458d887200fa",
   "metadata": {},
   "outputs": [],
   "source": []
  }
 ],
 "metadata": {
  "kernelspec": {
   "display_name": "Python 3 (ipykernel)",
   "language": "python",
   "name": "python3"
  },
  "language_info": {
   "codemirror_mode": {
    "name": "ipython",
    "version": 3
   },
   "file_extension": ".py",
   "mimetype": "text/x-python",
   "name": "python",
   "nbconvert_exporter": "python",
   "pygments_lexer": "ipython3",
   "version": "3.9.0"
  }
 },
 "nbformat": 4,
 "nbformat_minor": 5
}
